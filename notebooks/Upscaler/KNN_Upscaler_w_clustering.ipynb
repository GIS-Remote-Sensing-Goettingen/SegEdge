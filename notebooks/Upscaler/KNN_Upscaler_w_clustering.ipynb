{
 "cells": [
  {
   "cell_type": "code",
   "id": "initial_id",
   "metadata": {
    "collapsed": true,
    "ExecuteTime": {
     "end_time": "2025-10-27T10:10:54.708199Z",
     "start_time": "2025-10-27T10:10:54.624592Z"
    }
   },
   "source": [
    "import io\n",
    "import requests\n",
    "import torch\n",
    "import matplotlib.pyplot as plt\n",
    "from PIL import Image\n",
    "from transformers import AutoImageProcessor, Dinov2Model\n",
    "\n",
    "device = \"cuda\" if torch.cuda.is_available() else \"cpu\"\n",
    "\n",
    "img = Image.open(\"//home/mak/PycharmProjects/SegEdge/notebooks/Upscaler/Namibia.png\").convert(\"RGB\")\n"
   ],
   "outputs": [],
   "execution_count": 29
  },
  {
   "metadata": {
    "ExecuteTime": {
     "end_time": "2025-10-27T10:10:55.299145Z",
     "start_time": "2025-10-27T10:10:54.712477Z"
    }
   },
   "cell_type": "code",
   "source": [
    "from transformers import AutoModel\n",
    "\n",
    "# 2) DINOv3 ViT-L/16 features (tokens at 32x32 for 500 with patch 16)\n",
    "processor = AutoImageProcessor.from_pretrained(\"facebook/dinov3-vitl16-pretrain-sat493m\")\n",
    "model = AutoModel.from_pretrained(\"facebook/dinov3-vitl16-pretrain-sat493m\", token=False).to(device).eval()\n",
    "\n"
   ],
   "id": "7f70ac7fb27e2f99",
   "outputs": [],
   "execution_count": 30
  },
  {
   "metadata": {
    "ExecuteTime": {
     "end_time": "2025-10-27T10:10:55.327062Z",
     "start_time": "2025-10-27T10:10:55.305127Z"
    }
   },
   "cell_type": "code",
   "source": [
    "\n",
    "img_size = 600\n",
    "\n",
    "inputs = processor(\n",
    "    images=img,\n",
    "    do_resize=True,\n",
    "    size={\"shortest_edge\": img_size},\n",
    "    do_center_crop=True,\n",
    "    crop_size={\"height\": img_size, \"width\": img_size},\n",
    "    return_tensors=\"pt\",\n",
    ")\n",
    "hr_image = inputs[\"pixel_values\"].to(device)  #\n",
    "\n",
    "with torch.no_grad():\n",
    "    out = model(pixel_values=hr_image)\n",
    "    tokens = out.last_hidden_state[:, 1:, :]  # drop [CLS]\n",
    "\n",
    "B, N, C = tokens.shape\n",
    "h = w = int(N ** 0.5)\n",
    "if not  h * w == N:\n",
    "\n",
    "\n",
    "    print (f\"Non-square token grid (N={N})\")\n",
    "    print(\"Original tokens shape:\", tokens.shape)\n",
    "\n",
    "    #cut to square\n",
    "    new_N = h * h\n",
    "    tokens = tokens[:, :new_N, :]\n",
    "    print(\"Cut tokens to:\", tokens.shape)\n",
    "\n",
    "\n",
    "lr_features = tokens.reshape(B, h, w, C).permute(0, 3, 1, 2).contiguous()  # (1, C, 32, 32)\n"
   ],
   "id": "de04194650f47485",
   "outputs": [
    {
     "name": "stdout",
     "output_type": "stream",
     "text": [
      "Non-square token grid (N=1373)\n",
      "Original tokens shape: torch.Size([1, 1373, 1024])\n",
      "Cut tokens to: torch.Size([1, 1369, 1024])\n"
     ]
    }
   ],
   "execution_count": 31
  },
  {
   "metadata": {
    "ExecuteTime": {
     "end_time": "2025-10-27T10:10:56.125144Z",
     "start_time": "2025-10-27T10:10:55.358643Z"
    }
   },
   "cell_type": "code",
   "source": [
    "# 3) Load AnyUp from torch.hub and upsample to 448x448\n",
    "#    (hr_image must be ImageNet-normalized; lr_features can be from any encoder)\n",
    "upsampler = torch.hub.load(\"wimmerth/anyup\", \"anyup\", verbose=False).to(device).eval()\n",
    "with torch.no_grad():\n",
    "    # q_chunk_size can reduce memory if needed\n",
    "    hr_features = upsampler(hr_image, lr_features, q_chunk_size=256)"
   ],
   "id": "56f1b3b653cd23ea",
   "outputs": [],
   "execution_count": 32
  },
  {
   "metadata": {
    "ExecuteTime": {
     "end_time": "2025-10-27T10:10:56.132832Z",
     "start_time": "2025-10-27T10:10:56.130663Z"
    }
   },
   "cell_type": "code",
   "source": [
    "print(hr_features.shape)\n",
    "\n",
    "B, C, H, W = hr_features.shape\n",
    "X = hr_features.permute(0, 2, 3, 1).reshape(B, -1, C)   # (90000, 1024)\n",
    "\n",
    "print(\"X shape: \",X.shape)"
   ],
   "id": "3a98931a5f4a861a",
   "outputs": [
    {
     "name": "stdout",
     "output_type": "stream",
     "text": [
      "torch.Size([1, 1024, 600, 600])\n",
      "X shape:  torch.Size([1, 360000, 1024])\n"
     ]
    }
   ],
   "execution_count": 33
  },
  {
   "metadata": {
    "ExecuteTime": {
     "end_time": "2025-10-27T10:10:57.354251Z",
     "start_time": "2025-10-27T10:10:56.190577Z"
    }
   },
   "cell_type": "code",
   "source": [
    "# we’ll cluster in feature space, so build a 2D matrix X = (num_patches × feature_dim)\n",
    "import numpy as np\n",
    "\n",
    "# L2-normalize each patch vector so distance ~ cosine distance (helps k-means separate textures like roads/roofs)\n",
    "X = X[0].detach().cpu().numpy().astype(\"float32\")\n",
    "X /= (np.linalg.norm(X, axis=1, keepdims=True) + 1e-8)\n",
    "\n",
    "# print sanity checks before clustering\n",
    "print(\"X shape:\", X.shape, \" mean L2 norm:\", float(np.linalg.norm(X, axis=1).mean()))\n"
   ],
   "id": "81b2ef8642dd75c3",
   "outputs": [
    {
     "name": "stdout",
     "output_type": "stream",
     "text": [
      "X shape: (360000, 1024)  mean L2 norm: 1.0\n"
     ]
    }
   ],
   "execution_count": 34
  },
  {
   "metadata": {
    "ExecuteTime": {
     "end_time": "2025-10-27T10:10:58.139902Z",
     "start_time": "2025-10-27T10:10:57.411873Z"
    }
   },
   "cell_type": "code",
   "source": [
    "from sklearn.cluster import KMeans\n",
    "# we’ll use MiniBatchKMeans to group similar patch embeddings (fast, memory-friendly) into k semantic clusters\n",
    "from sklearn.cluster import MiniBatchKMeans\n",
    "\n",
    "# choose an initial cluster count (k=8 is a reasonable start to separate roads/roofs/veg/shadows etc.)\n",
    "kmeans = MiniBatchKMeans(n_clusters=6, random_state=12, batch_size=2048, max_iter=100)\n",
    "\n",
    "# run clustering on the L2-normalized embeddings to obtain one label per patch (0..k-1)\n",
    "labels = kmeans.fit_predict(X)\n",
    "\n",
    "# report how many patches fell into each cluster so we can gauge balance before mapping to the image grid\n",
    "print(\"labels shape:\", labels.shape, \" | counts per cluster:\", np.bincount(labels, minlength=8))\n"
   ],
   "id": "3ef28b0c31f2f106",
   "outputs": [
    {
     "name": "stdout",
     "output_type": "stream",
     "text": [
      "labels shape: (360000,)  | counts per cluster: [42216 67789 50336 98383 40478 60798     0     0]\n"
     ]
    }
   ],
   "execution_count": 35
  },
  {
   "metadata": {
    "ExecuteTime": {
     "end_time": "2025-10-27T10:10:58.149099Z",
     "start_time": "2025-10-27T10:10:58.146239Z"
    }
   },
   "cell_type": "code",
   "source": [
    "\n",
    "# derive patches per side and confirm P = Hp*Wp matches 90000\n",
    "ps = 16\n",
    "Hp, Wp = H // ps, W // ps\n",
    "\n",
    "label_grid = labels.reshape(H, W)\n",
    "\n",
    "# quick sanity: report grid shape and how many distinct clusters are present\n",
    "print(\"label_grid:\", label_grid.shape, \" unique clusters:\", np.unique(label_grid).size)\n",
    "\n"
   ],
   "id": "e3758885e9df8154",
   "outputs": [
    {
     "name": "stdout",
     "output_type": "stream",
     "text": [
      "label_grid: (600, 600)  unique clusters: 6\n"
     ]
    }
   ],
   "execution_count": 36
  },
  {
   "metadata": {
    "ExecuteTime": {
     "end_time": "2025-10-27T10:10:58.253842Z",
     "start_time": "2025-10-27T10:10:58.193874Z"
    }
   },
   "cell_type": "code",
   "source": [
    "# import plotting; we'll use a discrete palette so clusters are clearly distinct\n",
    "import matplotlib.pyplot as plt\n",
    "# render the label grid with a categorical colormap and no smoothing between patches\n",
    "plt.imshow(label_grid, cmap=\"tab20\", interpolation=\"nearest\")\n",
    "# print a quick status so you know what you’re seeing (grid size and number of clusters)\n",
    "print(f\"visualizing clusters @ {label_grid.shape[0]}x{label_grid.shape[1]} with {label_grid.max()+1} clusters\")\n",
    "# display the figure\n",
    "plt.show()\n"
   ],
   "id": "4d5f4c357ee70242",
   "outputs": [
    {
     "name": "stdout",
     "output_type": "stream",
     "text": [
      "visualizing clusters @ 600x600 with 6 clusters\n"
     ]
    },
    {
     "data": {
      "text/plain": [
       "<Figure size 640x480 with 1 Axes>"
      ],
      "image/png": "[encoded data removed]"
     },
     "metadata": {},
     "output_type": "display_data",
     "jetTransient": {
      "display_id": null
     }
    }
   ],
   "execution_count": 37
  },
  {
   "metadata": {
    "ExecuteTime": {
     "end_time": "2025-10-24T15:04:43.086810Z",
     "start_time": "2025-10-24T15:04:43.083280Z"
    }
   },
   "cell_type": "markdown",
   "source": "Low Res Clusters",
   "id": "10a14cb1f99753f6"
  },
  {
   "metadata": {
    "ExecuteTime": {
     "end_time": "2025-10-27T10:10:58.264777Z",
     "start_time": "2025-10-27T10:10:58.259882Z"
    }
   },
   "cell_type": "code",
   "source": [
    "print(lr_features.shape)\n",
    "\n",
    "B, C, H, W = lr_features.shape\n",
    "X = lr_features.permute(0, 2, 3, 1).reshape(B, -1, C)   # (90000, 1024)\n",
    "\n",
    "print(\"X shape: \",X.shape)"
   ],
   "id": "6bffe2f0039ba0bb",
   "outputs": [
    {
     "name": "stdout",
     "output_type": "stream",
     "text": [
      "torch.Size([1, 1024, 37, 37])\n",
      "X shape:  torch.Size([1, 1369, 1024])\n"
     ]
    }
   ],
   "execution_count": 38
  },
  {
   "metadata": {
    "ExecuteTime": {
     "end_time": "2025-10-27T10:10:58.313277Z",
     "start_time": "2025-10-27T10:10:58.307700Z"
    }
   },
   "cell_type": "code",
   "source": [
    "# we’ll cluster in feature space, so build a 2D matrix X = (num_patches × feature_dim)\n",
    "import numpy as np\n",
    "\n",
    "# L2-normalize each patch vector so distance ~ cosine distance (helps k-means separate textures like roads/roofs)\n",
    "X = X[0].detach().cpu().numpy().astype(\"float32\")\n",
    "X /= (np.linalg.norm(X, axis=1, keepdims=True) + 1e-8)\n",
    "\n",
    "# print sanity checks before clustering\n",
    "print(\"X shape:\", X.shape, \" mean L2 norm:\", float(np.linalg.norm(X, axis=1).mean()))\n"
   ],
   "id": "4b1313ff00236d63",
   "outputs": [
    {
     "name": "stdout",
     "output_type": "stream",
     "text": [
      "X shape: (1369, 1024)  mean L2 norm: 1.0\n"
     ]
    }
   ],
   "execution_count": 39
  },
  {
   "metadata": {
    "ExecuteTime": {
     "end_time": "2025-10-27T10:10:58.411156Z",
     "start_time": "2025-10-27T10:10:58.364877Z"
    }
   },
   "cell_type": "code",
   "source": [
    "from sklearn.cluster import KMeans\n",
    "# we’ll use MiniBatchKMeans to group similar patch embeddings (fast, memory-friendly) into k semantic clusters\n",
    "from sklearn.cluster import MiniBatchKMeans\n",
    "\n",
    "# choose an initial cluster count (k=8 is a reasonable start to separate roads/roofs/veg/shadows etc.)\n",
    "kmeans =KMeans(n_clusters=6, n_init=\"auto\", random_state=0)\n",
    "\n",
    "# run clustering on the L2-normalized embeddings to obtain one label per patch (0..k-1)\n",
    "labels = kmeans.fit_predict(X)\n",
    "\n",
    "# report how many patches fell into each cluster so we can gauge balance before mapping to the image grid\n",
    "print(\"labels shape:\", labels.shape, \" | counts per cluster:\", np.bincount(labels, minlength=8))\n"
   ],
   "id": "1c88bdaf3c2ad6d0",
   "outputs": [
    {
     "name": "stdout",
     "output_type": "stream",
     "text": [
      "labels shape: (1369,)  | counts per cluster: [115 144 339 253 348 170   0   0]\n"
     ]
    }
   ],
   "execution_count": 40
  },
  {
   "metadata": {
    "ExecuteTime": {
     "end_time": "2025-10-27T10:10:58.429741Z",
     "start_time": "2025-10-27T10:10:58.424319Z"
    }
   },
   "cell_type": "code",
   "source": [
    "\n",
    "# derive patches per side and confirm P = Hp*Wp matches 90000\n",
    "ps = 16\n",
    "Hp, Wp = H // ps, W // ps\n",
    "\n",
    "label_grid = labels.reshape(H, W)\n",
    "\n",
    "# quick sanity: report grid shape and how many distinct clusters are present\n",
    "print(\"label_grid:\", label_grid.shape, \" unique clusters:\", np.unique(label_grid).size)\n",
    "\n"
   ],
   "id": "9964032bd1dfd8cd",
   "outputs": [
    {
     "name": "stdout",
     "output_type": "stream",
     "text": [
      "label_grid: (37, 37)  unique clusters: 6\n"
     ]
    }
   ],
   "execution_count": 41
  },
  {
   "metadata": {
    "ExecuteTime": {
     "end_time": "2025-10-27T10:10:58.548583Z",
     "start_time": "2025-10-27T10:10:58.474957Z"
    }
   },
   "cell_type": "code",
   "source": [
    "# import plotting; we'll use a discrete palette so clusters are clearly distinct\n",
    "import matplotlib.pyplot as plt\n",
    "# render the label grid with a categorical colormap and no smoothing between patches\n",
    "plt.imshow(label_grid, cmap=\"tab20\", interpolation=\"nearest\")\n",
    "# print a quick status so you know what you’re seeing (grid size and number of clusters)\n",
    "print(f\"visualizing clusters @ {label_grid.shape[0]}x{label_grid.shape[1]} with {label_grid.max()+1} clusters\")\n",
    "# display the figure\n",
    "plt.show()\n"
   ],
   "id": "a28c6e1390245eaf",
   "outputs": [
    {
     "name": "stdout",
     "output_type": "stream",
     "text": [
      "visualizing clusters @ 37x37 with 6 clusters\n"
     ]
    },
    {
     "data": {
      "text/plain": [
       "<Figure size 640x480 with 1 Axes>"
      ],
      "image/png": "[encoded data removed]"
     },
     "metadata": {},
     "output_type": "display_data",
     "jetTransient": {
      "display_id": null
     }
    }
   ],
   "execution_count": 42
  },
  {
   "metadata": {
    "ExecuteTime": {
     "end_time": "2025-10-27T10:10:58.555444Z",
     "start_time": "2025-10-27T10:10:58.553983Z"
    }
   },
   "cell_type": "code",
   "source": "",
   "id": "dd889a6bb5d3372f",
   "outputs": [],
   "execution_count": null
  },
  {
   "metadata": {
    "ExecuteTime": {
     "end_time": "2025-10-27T10:10:58.600681Z",
     "start_time": "2025-10-27T10:10:58.598988Z"
    }
   },
   "cell_type": "code",
   "source": "",
   "id": "da89508d83d35169",
   "outputs": [],
   "execution_count": null
  }
 ],
 "metadata": {
  "kernelspec": {
   "display_name": "Python 3",
   "language": "python",
   "name": "python3"
  },
  "language_info": {
   "codemirror_mode": {
    "name": "ipython",
    "version": 2
   },
   "file_extension": ".py",
   "mimetype": "text/x-python",
   "name": "python",
   "nbconvert_exporter": "python",
   "pygments_lexer": "ipython2",
   "version": "2.7.6"
  }
 },
 "nbformat": 4,
 "nbformat_minor": 5
}
