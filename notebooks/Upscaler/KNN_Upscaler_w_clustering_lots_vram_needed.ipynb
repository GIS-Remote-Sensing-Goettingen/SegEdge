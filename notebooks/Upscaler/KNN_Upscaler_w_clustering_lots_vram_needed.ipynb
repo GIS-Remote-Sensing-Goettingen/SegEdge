{
 "cells": [
  {
   "cell_type": "code",
   "id": "initial_id",
   "metadata": {
    "collapsed": true,
    "ExecuteTime": {
     "end_time": "2025-10-27T10:04:57.389938Z",
     "start_time": "2025-10-27T10:04:54.422098Z"
    }
   },
   "source": [
    "import io\n",
    "import requests\n",
    "import torch\n",
    "import matplotlib.pyplot as plt\n",
    "from PIL import Image\n",
    "from transformers import AutoImageProcessor, Dinov2Model\n",
    "\n",
    "device = \"cuda\" if torch.cuda.is_available() else \"cpu\"\n",
    "\n",
    "img = Image.open(\"//home/mak/PycharmProjects/SegEdge/notebooks/Upscaler/Random1.png\").convert(\"RGB\")\n"
   ],
   "outputs": [],
   "execution_count": 1
  },
  {
   "metadata": {
    "ExecuteTime": {
     "end_time": "2025-10-27T10:04:58.151375Z",
     "start_time": "2025-10-27T10:04:57.393802Z"
    }
   },
   "cell_type": "code",
   "source": [
    "from transformers import AutoModel\n",
    "\n",
    "# 2) DINOv3 ViT-L/16 features (tokens at 32x32 for 500 with patch 16)\n",
    "processor = AutoImageProcessor.from_pretrained(\"facebook/dinov3-vitl16-pretrain-sat493m\")\n",
    "model = AutoModel.from_pretrained(\"facebook/dinov3-vitl16-pretrain-sat493m\", token=True).to(device).eval()\n",
    "\n"
   ],
   "id": "7f70ac7fb27e2f99",
   "outputs": [],
   "execution_count": 2
  },
  {
   "metadata": {
    "ExecuteTime": {
     "end_time": "2025-10-27T10:04:58.303402Z",
     "start_time": "2025-10-27T10:04:58.157331Z"
    }
   },
   "cell_type": "code",
   "source": [
    "\n",
    "img_size = 600\n",
    "\n",
    "inputs = processor(\n",
    "    images=img,\n",
    "    do_resize=True,\n",
    "    size={\"shortest_edge\": img_size},\n",
    "    do_center_crop=True,\n",
    "    crop_size={\"height\": img_size, \"width\": img_size},\n",
    "    return_tensors=\"pt\",\n",
    ")\n",
    "hr_image = inputs[\"pixel_values\"].to(device)  #\n",
    "\n",
    "with torch.no_grad():\n",
    "    out = model(pixel_values=hr_image)\n",
    "    tokens = out.last_hidden_state[:, 1:, :]  # drop [CLS]\n",
    "\n",
    "B, N, C = tokens.shape\n",
    "h = w = int(N ** 0.5)\n",
    "if not  h * w == N:\n",
    "\n",
    "\n",
    "    print (f\"Non-square token grid (N={N})\")\n",
    "    print(\"Original tokens shape:\", tokens.shape)\n",
    "\n",
    "    #cut to square\n",
    "    new_N = h * h\n",
    "    tokens = tokens[:, :new_N, :]\n",
    "    print(\"Cut tokens to:\", tokens.shape)\n",
    "\n",
    "\n",
    "lr_features = tokens.reshape(B, h, w, C).permute(0, 3, 1, 2).contiguous()  # (1, C, 32, 32)\n"
   ],
   "id": "de04194650f47485",
   "outputs": [
    {
     "name": "stdout",
     "output_type": "stream",
     "text": [
      "Non-square token grid (N=1373)\n",
      "Original tokens shape: torch.Size([1, 1373, 1024])\n",
      "Cut tokens to: torch.Size([1, 1369, 1024])\n"
     ]
    }
   ],
   "execution_count": 3
  },
  {
   "metadata": {
    "jupyter": {
     "is_executing": true
    },
    "ExecuteTime": {
     "start_time": "2025-10-27T10:06:13.937142Z"
    }
   },
   "cell_type": "code",
   "source": [
    "import torch\n",
    "from torchvision import transforms\n",
    "import numpy as np\n",
    "\n",
    "# ViT patch size and current image size\n",
    "ps = 16\n",
    "W, H = img.size\n",
    "\n",
    "# compute next multiples so patches tile cleanly\n",
    "Wm = ((W + ps - 1) // ps) * ps\n",
    "Hm = ((H + ps - 1) // ps) * ps\n",
    "pad_w, pad_h = Wm - W, Hm - H\n",
    "\n",
    "print(f\"original: {W}x{H}  →  next multiples of {ps}: {Wm}x{Hm}  (add {pad_w} px width, {pad_h} px height)\")\n",
    "\n",
    "# padding: (left, top, right, bottom)\n",
    "pad_to_multiple = transforms.Pad((0, 0, pad_w, pad_h), fill=0)\n",
    "to_tensor = transforms.Compose([pad_to_multiple, transforms.ToTensor()])\n",
    "\n",
    "# convert to tensor\n",
    "img_tensor = to_tensor(img)\n",
    "print(\"tensor shape:\", tuple(img_tensor.shape))\n",
    "\n",
    "# normalize using DINOv3 processor stats\n",
    "normalize = transforms.Normalize(mean=processor.image_mean, std=processor.image_std)\n",
    "img_norm = normalize(img_tensor)\n",
    "\n",
    "# add batch dim and move to device (this is hr_image for AnyUp)\n",
    "hr_image = img_norm.unsqueeze(0).to(device)\n",
    "print(\"hr_image for upsampler:\", tuple(hr_image.shape), \" device:\", hr_image.device)\n",
    "\n",
    "# forward pass to get patch tokens\n",
    "with torch.no_grad():\n",
    "    out = model(pixel_values=hr_image)\n",
    "\n",
    "# drop CLS and register tokens\n",
    "R = getattr(model.config, \"num_register_tokens\", 0)\n",
    "patch = out.last_hidden_state[:, 1 + R :, :]\n",
    "print(\"patch shape (1,P,D):\", tuple(patch.shape))\n",
    "\n",
    "# compute patch grid dims\n",
    "ps, Hx, Wx = 16, hr_image.shape[2], hr_image.shape[3]\n",
    "Hp, Wp = Hx // ps, Wx // ps\n",
    "\n",
    "# reshape to spatial grid (B, Hp, Wp, D) then to (B, D, Hp, Wp) for upsampler\n",
    "patch_grid = patch.reshape(1, Hp, Wp, patch.shape[-1])\n",
    "lr_features = patch_grid.permute(0, 3, 1, 2).contiguous()  # (1, D, Hp, Wp)\n",
    "\n",
    "print(f\"lr_features shape: {tuple(lr_features.shape)}\")\n",
    "\n",
    "# now feed hr_image and lr_features to the upsampler\n",
    "upsampler = torch.hub.load(\"wimmerth/anyup\", \"anyup\", verbose=False).cpu().eval()\n",
    "hr_image_cpu = hr_image.cpu()\n",
    "lr_features_cpu = lr_features.cpu()\n",
    "with torch.no_grad():\n",
    "    hr_features = upsampler(hr_image_cpu, lr_features_cpu, q_chunk_size=64)\n",
    "\n",
    "print(\"hr_features shape:\", tuple(hr_features.shape))\n"
   ],
   "id": "56f1b3b653cd23ea",
   "outputs": [
    {
     "name": "stdout",
     "output_type": "stream",
     "text": [
      "original: 2190x1125  →  next multiples of 16: 2192x1136  (add 2 px width, 11 px height)\n",
      "tensor shape: (3, 1136, 2192)\n",
      "hr_image for upsampler: (1, 3, 1136, 2192)  device: cuda:0\n",
      "patch shape (1,P,D): (1, 9727, 1024)\n",
      "lr_features shape: (1, 1024, 71, 137)\n"
     ]
    }
   ],
   "execution_count": null
  },
  {
   "metadata": {
    "ExecuteTime": {
     "end_time": "2025-10-27T10:05:01.353380434Z",
     "start_time": "2025-10-27T09:56:40.295398Z"
    }
   },
   "cell_type": "code",
   "source": [
    "print(hr_features.shape)\n",
    "\n",
    "B, C, H, W = hr_features.shape\n",
    "X = hr_features.permute(0, 2, 3, 1).reshape(B, -1, C)   # (90000, 1024)\n",
    "\n",
    "print(\"X shape: \",X.shape)"
   ],
   "id": "3a98931a5f4a861a",
   "outputs": [
    {
     "name": "stdout",
     "output_type": "stream",
     "text": [
      "torch.Size([1, 1024, 600, 600])\n",
      "X shape:  torch.Size([1, 360000, 1024])\n"
     ]
    }
   ],
   "execution_count": 5
  },
  {
   "metadata": {
    "ExecuteTime": {
     "end_time": "2025-10-27T10:05:01.353823898Z",
     "start_time": "2025-10-27T09:56:40.343511Z"
    }
   },
   "cell_type": "code",
   "source": [
    "# we’ll cluster in feature space, so build a 2D matrix X = (num_patches × feature_dim)\n",
    "import numpy as np\n",
    "\n",
    "# L2-normalize each patch vector so distance ~ cosine distance (helps k-means separate textures like roads/roofs)\n",
    "X = X[0].detach().cpu().numpy().astype(\"float32\")\n",
    "X /= (np.linalg.norm(X, axis=1, keepdims=True) + 1e-8)\n",
    "\n",
    "# print sanity checks before clustering\n",
    "print(\"X shape:\", X.shape, \" mean L2 norm:\", float(np.linalg.norm(X, axis=1).mean()))\n"
   ],
   "id": "81b2ef8642dd75c3",
   "outputs": [
    {
     "name": "stdout",
     "output_type": "stream",
     "text": [
      "X shape: (360000, 1024)  mean L2 norm: 1.0\n"
     ]
    }
   ],
   "execution_count": 6
  },
  {
   "metadata": {
    "ExecuteTime": {
     "end_time": "2025-10-27T10:05:01.354947116Z",
     "start_time": "2025-10-27T09:56:42.106304Z"
    }
   },
   "cell_type": "code",
   "source": [
    "from sklearn.cluster import KMeans\n",
    "# we’ll use MiniBatchKMeans to group similar patch embeddings (fast, memory-friendly) into k semantic clusters\n",
    "from sklearn.cluster import MiniBatchKMeans\n",
    "\n",
    "# choose an initial cluster count (k=8 is a reasonable start to separate roads/roofs/veg/shadows etc.)\n",
    "kmeans = MiniBatchKMeans(n_clusters=8, random_state=12, batch_size=2048, max_iter=100)\n",
    "\n",
    "# run clustering on the L2-normalized embeddings to obtain one label per patch (0..k-1)\n",
    "labels = kmeans.fit_predict(X)\n",
    "\n",
    "# report how many patches fell into each cluster so we can gauge balance before mapping to the image grid\n",
    "print(\"labels shape:\", labels.shape, \" | counts per cluster:\", np.bincount(labels, minlength=8))\n"
   ],
   "id": "3ef28b0c31f2f106",
   "outputs": [
    {
     "name": "stdout",
     "output_type": "stream",
     "text": [
      "labels shape: (360000,)  | counts per cluster: [46191 61568 59645 51889 35853 20589 36199 48066]\n"
     ]
    }
   ],
   "execution_count": 7
  },
  {
   "metadata": {
    "ExecuteTime": {
     "end_time": "2025-10-27T10:05:01.355414023Z",
     "start_time": "2025-10-27T09:56:43.019267Z"
    }
   },
   "cell_type": "code",
   "source": [
    "\n",
    "# derive patches per side and confirm P = Hp*Wp matches 90000\n",
    "ps = 16\n",
    "Hp, Wp = H // ps, W // ps\n",
    "\n",
    "label_grid = labels.reshape(H, W)\n",
    "\n",
    "# quick sanity: report grid shape and how many distinct clusters are present\n",
    "print(\"label_grid:\", label_grid.shape, \" unique clusters:\", np.unique(label_grid).size)\n",
    "\n"
   ],
   "id": "e3758885e9df8154",
   "outputs": [
    {
     "name": "stdout",
     "output_type": "stream",
     "text": [
      "label_grid: (600, 600)  unique clusters: 8\n"
     ]
    }
   ],
   "execution_count": 8
  },
  {
   "metadata": {
    "ExecuteTime": {
     "end_time": "2025-10-27T10:05:01.355809429Z",
     "start_time": "2025-10-27T09:56:43.074746Z"
    }
   },
   "cell_type": "code",
   "source": [
    "# import plotting; we'll use a discrete palette so clusters are clearly distinct\n",
    "import matplotlib.pyplot as plt\n",
    "# render the label grid with a categorical colormap and no smoothing between patches\n",
    "plt.imshow(label_grid, cmap=\"tab20\", interpolation=\"nearest\")\n",
    "# print a quick status so you know what you’re seeing (grid size and number of clusters)\n",
    "print(f\"visualizing clusters @ {label_grid.shape[0]}x{label_grid.shape[1]} with {label_grid.max()+1} clusters\")\n",
    "# display the figure\n",
    "plt.show()\n"
   ],
   "id": "4d5f4c357ee70242",
   "outputs": [
    {
     "name": "stdout",
     "output_type": "stream",
     "text": [
      "visualizing clusters @ 600x600 with 8 clusters\n"
     ]
    },
    {
     "data": {
      "text/plain": [
       "<Figure size 640x480 with 1 Axes>"
      ],
      "image/png": "[encoded data removed]"
     },
     "metadata": {},
     "output_type": "display_data",
     "jetTransient": {
      "display_id": null
     }
    }
   ],
   "execution_count": 9
  },
  {
   "metadata": {
    "ExecuteTime": {
     "end_time": "2025-10-24T15:04:43.086810Z",
     "start_time": "2025-10-24T15:04:43.083280Z"
    }
   },
   "cell_type": "markdown",
   "source": "Low Res Clusters",
   "id": "10a14cb1f99753f6"
  },
  {
   "metadata": {
    "ExecuteTime": {
     "end_time": "2025-10-27T10:05:01.356232002Z",
     "start_time": "2025-10-27T10:01:10.943990Z"
    }
   },
   "cell_type": "code",
   "source": [
    "\n",
    "import torch\n",
    "from torchvision import transforms\n",
    "import numpy as np\n",
    "\n",
    "# ViT patch size and current image size (PIL Image `img` must be defined earlier)\n",
    "ps = 16\n",
    "W, H = img.size  # PIL returns (width, height)\n",
    "\n",
    "# compute next multiples so patches tile cleanly\n",
    "Wm = ((W + ps - 1) // ps) * ps\n",
    "Hm = ((H + ps - 1) // ps) * ps\n",
    "pad_w, pad_h = Wm - W, Hm - H\n",
    "\n",
    "print(f\"original: {W}x{H}  →  next multiples of {ps}: {Wm}x{Hm}  (add {pad_w} px width, {pad_h} px height)\")\n",
    "\n",
    "# padding: (left, top, right, bottom)\n",
    "pad_to_multiple = transforms.Pad((0, 0, pad_w, pad_h), fill=0)\n",
    "to_tensor = transforms.Compose([pad_to_multiple, transforms.ToTensor()])\n",
    "\n",
    "# convert to tensor and inspect shape (C, H, W)\n",
    "img_tensor = to_tensor(img)\n",
    "print(\"tensor shape:\", tuple(img_tensor.shape))\n",
    "\n",
    "# normalize using DINOv3 processor stats\n",
    "normalize = transforms.Normalize(mean=processor.image_mean, std=processor.image_std)\n",
    "img_norm = normalize(img_tensor)\n",
    "\n",
    "# add batch dim and move to device\n",
    "x = img_norm.unsqueeze(0).to(device)\n",
    "print(\"ready tensor:\", tuple(x.shape), \" device:\", x.device)\n",
    "\n",
    "# build inverse normalization (to visualize / clamp back to [0,1])\n",
    "inv = transforms.Normalize(\n",
    "    mean=[-m / s for m, s in zip(processor.image_mean, processor.image_std)],\n",
    "    std=[1.0 / s for s in processor.image_std],\n",
    ")\n",
    "img_vis = torch.clamp(inv(img_norm), 0.0, 1.0)  # tensor in [0,1]\n",
    "\n",
    "# forward pass to get tokens (no grads)\n",
    "with torch.no_grad():\n",
    "    out = model(pixel_values=x)\n",
    "\n",
    "# drop CLS and any register tokens, keep spatial patch tokens\n",
    "R = getattr(model.config, \"num_register_tokens\", 0)\n",
    "patch = out.last_hidden_state[:, 1 + R :, :]  # shape: (1, P, D)\n",
    "print(\"patch shape (1,P,D):\", tuple(patch.shape))\n",
    "\n",
    "# compute patch grid dims from padded tensor size\n",
    "ps, Hx, Wx = 16, x.shape[2], x.shape[3]\n",
    "Hp, Wp = Hx // ps, Wx // ps\n",
    "\n",
    "# reshape flat tokens (1,P,D) -> (1, Hp, Wp, D)\n",
    "patch_grid = patch.reshape(1, Hp, Wp, patch.shape[-1])\n",
    "print(f\"HxW={Hx}x{Wx}  Hp×Wp={Hp}×{Wp}={Hp*Wp}  grid shape={tuple(patch_grid.shape)}\")\n",
    "\n"
   ],
   "id": "6bffe2f0039ba0bb",
   "outputs": [
    {
     "name": "stdout",
     "output_type": "stream",
     "text": [
      "original: 2190x1125  →  next multiples of 16: 2192x1136  (add 2 px width, 11 px height)\n",
      "tensor shape: (3, 1136, 2192)\n",
      "ready tensor: (1, 3, 1136, 2192)  device: cuda:0\n",
      "patch shape (1,P,D): (1, 9727, 1024)\n",
      "HxW=1136x2192  Hp×Wp=71×137=9727  grid shape=(1, 71, 137, 1024)\n"
     ]
    }
   ],
   "execution_count": 21
  },
  {
   "metadata": {
    "ExecuteTime": {
     "end_time": "2025-10-27T10:05:01.356555684Z",
     "start_time": "2025-10-27T10:01:34.799580Z"
    }
   },
   "cell_type": "code",
   "source": [
    "# we’ll cluster in feature space, so build a 2D matrix X = (num_patches × feature_dim)\n",
    "import numpy as np\n",
    "\n",
    "# L2-normalize each patch vector so distance ~ cosine distance (helps k-means separate textures like roads/roofs)\n",
    "# prepare feature matrix X for clustering (num_patches × feature_dim) as numpy float32\n",
    "X = patch.reshape(-1, patch.shape[-1]).detach().cpu().numpy().astype(\"float32\")\n",
    "X /= (np.linalg.norm(X, axis=1, keepdims=True) + 1e-8)\n",
    "\n",
    "# print sanity checks before clustering\n",
    "print(\"X shape:\", X.shape, \" mean L2 norm:\", float(np.linalg.norm(X, axis=1).mean()))\n"
   ],
   "id": "4b1313ff00236d63",
   "outputs": [
    {
     "name": "stdout",
     "output_type": "stream",
     "text": [
      "X shape: (9727, 1024)  mean L2 norm: 1.0\n"
     ]
    }
   ],
   "execution_count": 23
  },
  {
   "metadata": {
    "ExecuteTime": {
     "end_time": "2025-10-27T10:05:01.356808976Z",
     "start_time": "2025-10-27T10:01:35.935129Z"
    }
   },
   "cell_type": "code",
   "source": [
    "from sklearn.cluster import KMeans\n",
    "# we’ll use MiniBatchKMeans to group similar patch embeddings (fast, memory-friendly) into k semantic clusters\n",
    "from sklearn.cluster import MiniBatchKMeans\n",
    "\n",
    "# choose an initial cluster count (k=8 is a reasonable start to separate roads/roofs/veg/shadows etc.)\n",
    "kmeans = MiniBatchKMeans(n_clusters=8, random_state=12, batch_size=2048, max_iter=100)\n",
    "# run clustering on the L2-normalized embeddings to obtain one label per patch (0..k-1)\n",
    "labels = kmeans.fit_predict(X)\n",
    "\n",
    "# report how many patches fell into each cluster so we can gauge balance before mapping to the image grid\n",
    "print(\"labels shape:\", labels.shape, \" | counts per cluster:\", np.bincount(labels, minlength=8))\n"
   ],
   "id": "1c88bdaf3c2ad6d0",
   "outputs": [
    {
     "name": "stdout",
     "output_type": "stream",
     "text": [
      "labels shape: (9727,)  | counts per cluster: [ 965  985 1836  874 1797 1601  311 1358]\n"
     ]
    }
   ],
   "execution_count": 24
  },
  {
   "metadata": {
    "ExecuteTime": {
     "end_time": "2025-10-27T10:05:01.357019024Z",
     "start_time": "2025-10-27T10:02:08.799280Z"
    }
   },
   "cell_type": "code",
   "source": [
    "# derive patches per side from the original patch_grid shape (low-res)\n",
    "Hp, Wp = patch_grid.shape[1], patch_grid.shape[2]  # from your earlier code\n",
    "\n",
    "# reshape labels using the low-res patch grid dimensions\n",
    "label_grid = labels.reshape(Hp, Wp)\n",
    "\n",
    "# quick sanity: report grid shape and how many distinct clusters are present\n",
    "print(\"label_grid:\", label_grid.shape, \" unique clusters:\", np.unique(label_grid).size)\n"
   ],
   "id": "9964032bd1dfd8cd",
   "outputs": [
    {
     "name": "stdout",
     "output_type": "stream",
     "text": [
      "label_grid: (71, 137)  unique clusters: 8\n"
     ]
    }
   ],
   "execution_count": 26
  },
  {
   "metadata": {
    "ExecuteTime": {
     "end_time": "2025-10-27T10:05:01.357212874Z",
     "start_time": "2025-10-27T10:02:09.260434Z"
    }
   },
   "cell_type": "code",
   "source": [
    "# import plotting; we'll use a discrete palette so clusters are clearly distinct\n",
    "import matplotlib.pyplot as plt\n",
    "# render the label grid with a categorical colormap and no smoothing between patches\n",
    "plt.imshow(label_grid, cmap=\"tab20\", interpolation=\"nearest\")\n",
    "# print a quick status so you know what you’re seeing (grid size and number of clusters)\n",
    "print(f\"visualizing clusters @ {label_grid.shape[0]}x{label_grid.shape[1]} with {label_grid.max()+1} clusters\")\n",
    "# display the figure\n",
    "plt.show()\n"
   ],
   "id": "a28c6e1390245eaf",
   "outputs": [
    {
     "name": "stdout",
     "output_type": "stream",
     "text": [
      "visualizing clusters @ 71x137 with 8 clusters\n"
     ]
    },
    {
     "data": {
      "text/plain": [
       "<Figure size 640x480 with 1 Axes>"
      ],
      "image/png": "[encoded data removed]"
     },
     "metadata": {},
     "output_type": "display_data",
     "jetTransient": {
      "display_id": null
     }
    }
   ],
   "execution_count": 27
  },
  {
   "metadata": {
    "ExecuteTime": {
     "end_time": "2025-10-27T10:05:01.357427727Z",
     "start_time": "2025-10-27T09:56:43.543784Z"
    }
   },
   "cell_type": "code",
   "source": "",
   "id": "dd889a6bb5d3372f",
   "outputs": [],
   "execution_count": null
  },
  {
   "metadata": {
    "ExecuteTime": {
     "end_time": "2025-10-27T10:05:01.357945060Z",
     "start_time": "2025-10-27T09:56:43.588746Z"
    }
   },
   "cell_type": "code",
   "source": "",
   "id": "da89508d83d35169",
   "outputs": [],
   "execution_count": null
  }
 ],
 "metadata": {
  "kernelspec": {
   "display_name": "Python 3",
   "language": "python",
   "name": "python3"
  },
  "language_info": {
   "codemirror_mode": {
    "name": "ipython",
    "version": 2
   },
   "file_extension": ".py",
   "mimetype": "text/x-python",
   "name": "python",
   "nbconvert_exporter": "python",
   "pygments_lexer": "ipython2",
   "version": "2.7.6"
  }
 },
 "nbformat": 4,
 "nbformat_minor": 5
}
