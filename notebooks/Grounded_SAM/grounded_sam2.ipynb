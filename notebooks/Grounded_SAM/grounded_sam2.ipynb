{
 "cells": [
  {
   "cell_type": "code",
   "execution_count": null,
   "id": "initial_id",
   "metadata": {
    "collapsed": true
   },
   "outputs": [],
   "source": [
    "from autodistill_grounded_sam_2 import GroundedSAM2\n",
    "from autodistill.detection import CaptionOntology\n",
    "from scipy.ndimage import binary_dilation\n",
    "from PIL import Image\n",
    "import numpy as np\n",
    "import cv2\n",
    "import supervision as sv\n"
   ]
  },
  {
   "metadata": {},
   "cell_type": "code",
   "outputs": [],
   "execution_count": null,
   "source": "img = Image.open('/home/mak/PycharmProjects/SegEdge/notebooks/Grounded_SAM/Random1.png').convert(\"RGB\")",
   "id": "1f54dd858b6c8ba6"
  },
  {
   "metadata": {
    "ExecuteTime": {
     "end_time": "2025-10-24T14:10:19.736743Z",
     "start_time": "2025-10-24T14:10:19.551400Z"
    }
   },
   "cell_type": "code",
   "source": "img",
   "id": "5bce6ea0073f918f",
   "outputs": [
    {
     "ename": "NameError",
     "evalue": "name 'img' is not defined",
     "output_type": "error",
     "traceback": [
      "\u001B[0;31m---------------------------------------------------------------------------\u001B[0m",
      "\u001B[0;31mNameError\u001B[0m                                 Traceback (most recent call last)",
      "Cell \u001B[0;32mIn[1], line 1\u001B[0m\n\u001B[0;32m----> 1\u001B[0m \u001B[43mimg\u001B[49m\n",
      "\u001B[0;31mNameError\u001B[0m: name 'img' is not defined"
     ]
    }
   ],
   "execution_count": 1
  },
  {
   "metadata": {},
   "cell_type": "code",
   "outputs": [],
   "execution_count": null,
   "source": [
    "\n",
    "\n",
    "base_model = GroundedSAM2(\n",
    "    ontology=CaptionOntology(\n",
    "        {\n",
    "            \"roof\": \"artificial\",\n",
    "            \"road\": \"artificial\",\n",
    "        }\n",
    ")\n",
    ")\n",
    "\n"
   ],
   "id": "ea36906eaee06c0b"
  },
  {
   "metadata": {},
   "cell_type": "code",
   "outputs": [],
   "execution_count": null,
   "source": [
    "import matplotlib.pyplot as plt\n",
    "\n",
    "result = base_model.predict(img)\n",
    "plt.imshow(result.mask[0],cmap='gray')\n",
    "plt.show()\n",
    "\n"
   ],
   "id": "a19949cbfe42c0a2"
  },
  {
   "metadata": {},
   "cell_type": "code",
   "outputs": [],
   "execution_count": null,
   "source": [
    "\n",
    "\n",
    "mask = binary_dilation(result.mask[0],\n",
    "                       structure = np.ones((3,3), dtype= bool),\n",
    "                       iterations = 2)\n",
    "\n",
    "\n",
    "\n"
   ],
   "id": "ba05c0e70d671deb"
  }
 ],
 "metadata": {
  "kernelspec": {
   "display_name": "Python 3",
   "language": "python",
   "name": "python3"
  },
  "language_info": {
   "codemirror_mode": {
    "name": "ipython",
    "version": 2
   },
   "file_extension": ".py",
   "mimetype": "text/x-python",
   "name": "python",
   "nbconvert_exporter": "python",
   "pygments_lexer": "ipython2",
   "version": "2.7.6"
  }
 },
 "nbformat": 4,
 "nbformat_minor": 5
}
